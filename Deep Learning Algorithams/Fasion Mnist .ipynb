{
 "cells": [
  {
   "cell_type": "code",
   "execution_count": 55,
   "metadata": {},
   "outputs": [],
   "source": [
    "import tensorflow as tf\n",
    "from tensorflow import keras"
   ]
  },
  {
   "cell_type": "code",
   "execution_count": 2,
   "metadata": {},
   "outputs": [
    {
     "data": {
      "text/plain": [
       "'2.1.0'"
      ]
     },
     "execution_count": 2,
     "metadata": {},
     "output_type": "execute_result"
    }
   ],
   "source": [
    "tf.__version__"
   ]
  },
  {
   "cell_type": "code",
   "execution_count": 3,
   "metadata": {},
   "outputs": [
    {
     "data": {
      "text/plain": [
       "'2.2.4-tf'"
      ]
     },
     "execution_count": 3,
     "metadata": {},
     "output_type": "execute_result"
    }
   ],
   "source": [
    "keras.__version__"
   ]
  },
  {
   "cell_type": "code",
   "execution_count": 5,
   "metadata": {},
   "outputs": [
    {
     "name": "stdout",
     "output_type": "stream",
     "text": [
      "Downloading data from https://storage.googleapis.com/tensorflow/tf-keras-datasets/train-labels-idx1-ubyte.gz\n",
      "32768/29515 [=================================] - 0s 1us/step\n",
      "Downloading data from https://storage.googleapis.com/tensorflow/tf-keras-datasets/train-images-idx3-ubyte.gz\n",
      "26427392/26421880 [==============================] - 21s 1us/step\n",
      "Downloading data from https://storage.googleapis.com/tensorflow/tf-keras-datasets/t10k-labels-idx1-ubyte.gz\n",
      "8192/5148 [===============================================] - 0s 0us/step\n",
      "Downloading data from https://storage.googleapis.com/tensorflow/tf-keras-datasets/t10k-images-idx3-ubyte.gz\n",
      "4423680/4422102 [==============================] - 3s 1us/step\n"
     ]
    }
   ],
   "source": [
    "fashion_mnist = keras.datasets.fashion_mnist\n",
    "(X_train_full,y_train_full),(X_test,y_test) = fashion_mnist.load_data()"
   ]
  },
  {
   "cell_type": "code",
   "execution_count": 14,
   "metadata": {},
   "outputs": [
    {
     "name": "stdout",
     "output_type": "stream",
     "text": [
      "(60000, 28, 28)\n",
      "X_train_full: uint8\n",
      "(60000,)\n"
     ]
    }
   ],
   "source": [
    "print(X_train_full.shape)\n",
    "print(\"X_train_full:\",X_train_full.dtype)\n",
    "print(y_train_full.shape)"
   ]
  },
  {
   "cell_type": "code",
   "execution_count": 9,
   "metadata": {},
   "outputs": [
    {
     "name": "stdout",
     "output_type": "stream",
     "text": [
      "(10000, 28, 28)\n",
      "(10000,)\n"
     ]
    }
   ],
   "source": [
    "print(X_test.shape)\n",
    "print(y_test.shape)"
   ]
  },
  {
   "cell_type": "code",
   "execution_count": 16,
   "metadata": {},
   "outputs": [
    {
     "data": {
      "text/plain": [
       "array([[  0,   0,   0,   0,   0,   1,   0,   0,   0,   0,  41, 188, 103,\n",
       "         54,  48,  43,  87, 168, 133,  16,   0,   0,   0,   0,   0,   0,\n",
       "          0,   0],\n",
       "       [  0,   0,   0,   1,   0,   0,   0,  49, 136, 219, 216, 228, 236,\n",
       "        255, 255, 255, 255, 217, 215, 254, 231, 160,  45,   0,   0,   0,\n",
       "          0,   0],\n",
       "       [  0,   0,   0,   0,   0,  14, 176, 222, 224, 212, 203, 198, 196,\n",
       "        200, 215, 204, 202, 201, 201, 201, 209, 218, 224, 164,   0,   0,\n",
       "          0,   0],\n",
       "       [  0,   0,   0,   0,   0, 188, 219, 200, 198, 202, 198, 199, 199,\n",
       "        201, 196, 198, 198, 200, 200, 200, 200, 201, 200, 225,  41,   0,\n",
       "          0,   0],\n",
       "       [  0,   0,   0,   0,  51, 219, 199, 203, 203, 212, 238, 248, 250,\n",
       "        245, 249, 246, 247, 252, 248, 235, 207, 203, 203, 222, 140,   0,\n",
       "          0,   0],\n",
       "       [  0,   0,   0,   0, 116, 226, 206, 204, 207, 204, 101,  75,  47,\n",
       "         73,  48,  50,  45,  51,  63, 113, 222, 202, 206, 220, 224,   0,\n",
       "          0,   0],\n",
       "       [  0,   0,   0,   0, 200, 222, 209, 203, 215, 200,   0,  70,  98,\n",
       "          0, 103,  59,  68,  71,  49,   0, 219, 206, 214, 210, 250,  38,\n",
       "          0,   0],\n",
       "       [  0,   0,   0,   0, 247, 218, 212, 210, 215, 214,   0, 254, 243,\n",
       "        139, 255, 174, 251, 255, 205,   0, 215, 217, 214, 208, 220,  95,\n",
       "          0,   0],\n",
       "       [  0,   0,   0,  45, 226, 214, 214, 215, 224, 205,   0,  42,  35,\n",
       "         60,  16,  17,  12,  13,  70,   0, 189, 216, 212, 206, 212, 156,\n",
       "          0,   0],\n",
       "       [  0,   0,   0, 164, 235, 214, 211, 220, 216, 201,  52,  71,  89,\n",
       "         94,  83,  78,  70,  76,  92,  87, 206, 207, 222, 213, 219, 208,\n",
       "          0,   0],\n",
       "       [  0,   0,   0, 106, 187, 223, 237, 248, 211, 198, 252, 250, 248,\n",
       "        245, 248, 252, 253, 250, 252, 239, 201, 212, 225, 215, 193, 113,\n",
       "          0,   0],\n",
       "       [  0,   0,   0,   0,   0,  17,  54, 159, 222, 193, 208, 192, 197,\n",
       "        200, 200, 200, 200, 201, 203, 195, 210, 165,   0,   0,   0,   0,\n",
       "          0,   0],\n",
       "       [  0,   0,   0,   0,   0,   0,   0,  47, 225, 192, 214, 203, 206,\n",
       "        204, 204, 205, 206, 204, 212, 197, 218, 107,   0,   0,   0,   0,\n",
       "          0,   0],\n",
       "       [  0,   0,   0,   0,   1,   6,   0,  46, 212, 195, 212, 202, 206,\n",
       "        205, 204, 205, 206, 204, 212, 200, 218,  91,   0,   3,   1,   0,\n",
       "          0,   0],\n",
       "       [  0,   0,   0,   0,   0,   1,   0,  11, 197, 199, 205, 202, 205,\n",
       "        206, 204, 205, 207, 204, 205, 205, 218,  77,   0,   5,   0,   0,\n",
       "          0,   0],\n",
       "       [  0,   0,   0,   0,   0,   3,   0,   2, 191, 198, 201, 205, 206,\n",
       "        205, 205, 206, 209, 206, 199, 209, 219,  74,   0,   5,   0,   0,\n",
       "          0,   0],\n",
       "       [  0,   0,   0,   0,   0,   2,   0,   0, 188, 197, 200, 207, 207,\n",
       "        204, 207, 207, 210, 208, 198, 207, 221,  72,   0,   4,   0,   0,\n",
       "          0,   0],\n",
       "       [  0,   0,   0,   0,   0,   2,   0,   0, 215, 198, 203, 206, 208,\n",
       "        205, 207, 207, 210, 208, 200, 202, 222,  75,   0,   4,   0,   0,\n",
       "          0,   0],\n",
       "       [  0,   0,   0,   0,   0,   1,   0,   0, 212, 198, 209, 206, 209,\n",
       "        206, 208, 207, 211, 206, 205, 198, 221,  80,   0,   3,   0,   0,\n",
       "          0,   0],\n",
       "       [  0,   0,   0,   0,   0,   1,   0,   0, 204, 201, 205, 208, 207,\n",
       "        205, 211, 205, 210, 210, 209, 195, 221,  96,   0,   3,   0,   0,\n",
       "          0,   0],\n",
       "       [  0,   0,   0,   0,   0,   1,   0,   0, 202, 201, 205, 209, 207,\n",
       "        205, 213, 206, 210, 209, 210, 194, 217, 105,   0,   2,   0,   0,\n",
       "          0,   0],\n",
       "       [  0,   0,   0,   0,   0,   1,   0,   0, 204, 204, 205, 208, 207,\n",
       "        205, 215, 207, 210, 208, 211, 193, 213, 115,   0,   2,   0,   0,\n",
       "          0,   0],\n",
       "       [  0,   0,   0,   0,   0,   0,   0,   0, 204, 207, 207, 208, 206,\n",
       "        206, 215, 210, 210, 207, 212, 195, 210, 118,   0,   2,   0,   0,\n",
       "          0,   0],\n",
       "       [  0,   0,   0,   0,   0,   1,   0,   0, 198, 208, 208, 208, 204,\n",
       "        207, 212, 212, 210, 207, 211, 196, 207, 121,   0,   1,   0,   0,\n",
       "          0,   0],\n",
       "       [  0,   0,   0,   0,   0,   1,   0,   0, 198, 210, 207, 208, 206,\n",
       "        209, 213, 212, 211, 207, 210, 197, 207, 124,   0,   1,   0,   0,\n",
       "          0,   0],\n",
       "       [  0,   0,   0,   0,   0,   0,   0,   0, 172, 210, 203, 201, 199,\n",
       "        204, 207, 205, 204, 201, 205, 197, 206, 127,   0,   0,   0,   0,\n",
       "          0,   0],\n",
       "       [  0,   0,   0,   0,   0,   0,   0,   0, 188, 221, 214, 234, 236,\n",
       "        238, 244, 244, 244, 240, 243, 214, 224, 162,   0,   2,   0,   0,\n",
       "          0,   0],\n",
       "       [  0,   0,   0,   0,   0,   1,   0,   0, 139, 146, 130, 135, 135,\n",
       "        137, 125, 124, 125, 121, 119, 114, 130,  76,   0,   0,   0,   0,\n",
       "          0,   0]], dtype=uint8)"
      ]
     },
     "execution_count": 16,
     "metadata": {},
     "output_type": "execute_result"
    }
   ],
   "source": [
    "X_train_full[1]"
   ]
  },
  {
   "cell_type": "code",
   "execution_count": 17,
   "metadata": {},
   "outputs": [],
   "source": [
    "#can create validation and scale data"
   ]
  },
  {
   "cell_type": "code",
   "execution_count": 21,
   "metadata": {},
   "outputs": [],
   "source": [
    "X_valid,X_train= X_train_full[:50000]/255.0,X_train_full[50000:]/255.0"
   ]
  },
  {
   "cell_type": "code",
   "execution_count": 22,
   "metadata": {},
   "outputs": [],
   "source": [
    "y_valid,y_train = y_train_full[:50000],y_train_full[50000:]"
   ]
  },
  {
   "cell_type": "code",
   "execution_count": 24,
   "metadata": {},
   "outputs": [
    {
     "name": "stdout",
     "output_type": "stream",
     "text": [
      "(50000, 28, 28)\n",
      "(50000,)\n"
     ]
    }
   ],
   "source": [
    "print(X_valid.shape)\n",
    "print(y_valid.shape)"
   ]
  },
  {
   "cell_type": "code",
   "execution_count": 25,
   "metadata": {},
   "outputs": [
    {
     "name": "stdout",
     "output_type": "stream",
     "text": [
      "(10000, 28, 28)\n",
      "(10000,)\n"
     ]
    }
   ],
   "source": [
    "print(X_train.shape)\n",
    "print(y_train.shape)"
   ]
  },
  {
   "cell_type": "code",
   "execution_count": 27,
   "metadata": {},
   "outputs": [
    {
     "data": {
      "text/plain": [
       "2"
      ]
     },
     "execution_count": 27,
     "metadata": {},
     "output_type": "execute_result"
    }
   ],
   "source": [
    "y_train[1]"
   ]
  },
  {
   "cell_type": "code",
   "execution_count": 28,
   "metadata": {},
   "outputs": [],
   "source": [
    "class_names = [\"T-shirt/top\", \"Trouser\", \"Pullover\", \"Dress\", \"Coat\",\n",
    " \"Sandal\", \"Shirt\", \"Sneaker\", \"Bag\", \"Ankle boot\"]"
   ]
  },
  {
   "cell_type": "code",
   "execution_count": 29,
   "metadata": {},
   "outputs": [
    {
     "data": {
      "text/plain": [
       "'Pullover'"
      ]
     },
     "execution_count": 29,
     "metadata": {},
     "output_type": "execute_result"
    }
   ],
   "source": [
    "class_names[y_train[1]]"
   ]
  },
  {
   "cell_type": "code",
   "execution_count": 30,
   "metadata": {},
   "outputs": [],
   "source": [
    "#build nn"
   ]
  },
  {
   "cell_type": "code",
   "execution_count": 31,
   "metadata": {},
   "outputs": [],
   "source": [
    "model = keras.models.Sequential()\n",
    "model.add(keras.layers.Flatten(input_shape = [28,28]))\n",
    "model.add(keras.layers.Dense(300,activation=\"relu\"))\n",
    "model.add(keras.layers.Dense(100,activation=\"relu\"))\n",
    "model.add(keras.layers.Dense(10,activation=\"softmax\"))"
   ]
  },
  {
   "cell_type": "code",
   "execution_count": 33,
   "metadata": {},
   "outputs": [
    {
     "name": "stdout",
     "output_type": "stream",
     "text": [
      "Model: \"sequential\"\n",
      "_________________________________________________________________\n",
      "Layer (type)                 Output Shape              Param #   \n",
      "=================================================================\n",
      "flatten (Flatten)            (None, 784)               0         \n",
      "_________________________________________________________________\n",
      "dense (Dense)                (None, 300)               235500    \n",
      "_________________________________________________________________\n",
      "dense_1 (Dense)              (None, 100)               30100     \n",
      "_________________________________________________________________\n",
      "dense_2 (Dense)              (None, 10)                1010      \n",
      "=================================================================\n",
      "Total params: 266,610\n",
      "Trainable params: 266,610\n",
      "Non-trainable params: 0\n",
      "_________________________________________________________________\n"
     ]
    }
   ],
   "source": [
    "model.summary()"
   ]
  },
  {
   "cell_type": "code",
   "execution_count": 34,
   "metadata": {},
   "outputs": [
    {
     "data": {
      "text/plain": [
       "[<tensorflow.python.keras.layers.core.Flatten at 0x17c3a83d940>,\n",
       " <tensorflow.python.keras.layers.core.Dense at 0x17c7f8d99b0>,\n",
       " <tensorflow.python.keras.layers.core.Dense at 0x17c7fbe2b38>,\n",
       " <tensorflow.python.keras.layers.core.Dense at 0x17c1fbe8ef0>]"
      ]
     },
     "execution_count": 34,
     "metadata": {},
     "output_type": "execute_result"
    }
   ],
   "source": [
    "model.layers"
   ]
  },
  {
   "cell_type": "code",
   "execution_count": 37,
   "metadata": {},
   "outputs": [],
   "source": [
    "model.compile(loss = \"sparse_categorical_crossentropy\", optimizer=\"sgd\",\n",
    "              metrics=[\"accuracy\"])"
   ]
  },
  {
   "cell_type": "code",
   "execution_count": 46,
   "metadata": {},
   "outputs": [
    {
     "name": "stdout",
     "output_type": "stream",
     "text": [
      "Train on 10000 samples, validate on 50000 samples\n",
      "Epoch 1/40\n",
      "10000/10000 [==============================] - 7s 724us/sample - loss: 0.3738 - accuracy: 0.8674 - val_loss: 0.4329 - val_accuracy: 0.8480\n",
      "Epoch 2/40\n",
      "10000/10000 [==============================] - 9s 937us/sample - loss: 0.3641 - accuracy: 0.8742 - val_loss: 0.4251 - val_accuracy: 0.8513\n",
      "Epoch 3/40\n",
      "10000/10000 [==============================] - 8s 786us/sample - loss: 0.3584 - accuracy: 0.8741 - val_loss: 0.4681 - val_accuracy: 0.8314\n",
      "Epoch 4/40\n",
      "10000/10000 [==============================] - 8s 812us/sample - loss: 0.3507 - accuracy: 0.8768 - val_loss: 0.5068 - val_accuracy: 0.8252\n",
      "Epoch 5/40\n",
      "10000/10000 [==============================] - 8s 842us/sample - loss: 0.3493 - accuracy: 0.8786 - val_loss: 0.4573 - val_accuracy: 0.8473\n",
      "Epoch 6/40\n",
      "10000/10000 [==============================] - 8s 802us/sample - loss: 0.3441 - accuracy: 0.8808 - val_loss: 0.4648 - val_accuracy: 0.8360\n",
      "Epoch 7/40\n",
      "10000/10000 [==============================] - 9s 880us/sample - loss: 0.3395 - accuracy: 0.8807 - val_loss: 0.4176 - val_accuracy: 0.8529\n",
      "Epoch 8/40\n",
      "10000/10000 [==============================] - 9s 885us/sample - loss: 0.3352 - accuracy: 0.8845 - val_loss: 0.4682 - val_accuracy: 0.8343\n",
      "Epoch 9/40\n",
      "10000/10000 [==============================] - 8s 793us/sample - loss: 0.3300 - accuracy: 0.8840 - val_loss: 0.4109 - val_accuracy: 0.8583\n",
      "Epoch 10/40\n",
      "10000/10000 [==============================] - 8s 842us/sample - loss: 0.3253 - accuracy: 0.8859 - val_loss: 0.4829 - val_accuracy: 0.8320\n",
      "Epoch 11/40\n",
      "10000/10000 [==============================] - 7s 705us/sample - loss: 0.3188 - accuracy: 0.8889 - val_loss: 0.4619 - val_accuracy: 0.8398\n",
      "Epoch 12/40\n",
      "10000/10000 [==============================] - 8s 802us/sample - loss: 0.3179 - accuracy: 0.8885 - val_loss: 0.4197 - val_accuracy: 0.8533\n",
      "Epoch 13/40\n",
      "10000/10000 [==============================] - 7s 692us/sample - loss: 0.3118 - accuracy: 0.8923 - val_loss: 0.4475 - val_accuracy: 0.8482\n",
      "Epoch 14/40\n",
      "10000/10000 [==============================] - 9s 864us/sample - loss: 0.3051 - accuracy: 0.8932 - val_loss: 0.4373 - val_accuracy: 0.8499\n",
      "Epoch 15/40\n",
      "10000/10000 [==============================] - 8s 838us/sample - loss: 0.3024 - accuracy: 0.8941 - val_loss: 0.4012 - val_accuracy: 0.8599\n",
      "Epoch 16/40\n",
      "10000/10000 [==============================] - 8s 786us/sample - loss: 0.2978 - accuracy: 0.8946 - val_loss: 0.3979 - val_accuracy: 0.8593\n",
      "Epoch 17/40\n",
      "10000/10000 [==============================] - 9s 865us/sample - loss: 0.2992 - accuracy: 0.8928 - val_loss: 0.4172 - val_accuracy: 0.8518\n",
      "Epoch 18/40\n",
      "10000/10000 [==============================] - 8s 819us/sample - loss: 0.2906 - accuracy: 0.8980 - val_loss: 0.4660 - val_accuracy: 0.8453\n",
      "Epoch 19/40\n",
      "10000/10000 [==============================] - 7s 738us/sample - loss: 0.2872 - accuracy: 0.8989 - val_loss: 0.3974 - val_accuracy: 0.8620\n",
      "Epoch 20/40\n",
      "10000/10000 [==============================] - 8s 784us/sample - loss: 0.2823 - accuracy: 0.9030 - val_loss: 0.4285 - val_accuracy: 0.8494\n",
      "Epoch 21/40\n",
      "10000/10000 [==============================] - 8s 814us/sample - loss: 0.2829 - accuracy: 0.9030 - val_loss: 0.4144 - val_accuracy: 0.8573\n",
      "Epoch 22/40\n",
      "10000/10000 [==============================] - 9s 937us/sample - loss: 0.2780 - accuracy: 0.9052 - val_loss: 0.3926 - val_accuracy: 0.8610\n",
      "Epoch 23/40\n",
      "10000/10000 [==============================] - 7s 722us/sample - loss: 0.2744 - accuracy: 0.9056 - val_loss: 0.4465 - val_accuracy: 0.8413\n",
      "Epoch 24/40\n",
      "10000/10000 [==============================] - 8s 786us/sample - loss: 0.2717 - accuracy: 0.9034 - val_loss: 0.4066 - val_accuracy: 0.8600\n",
      "Epoch 25/40\n",
      "10000/10000 [==============================] - 8s 793us/sample - loss: 0.2681 - accuracy: 0.9063 - val_loss: 0.4040 - val_accuracy: 0.8604\n",
      "Epoch 26/40\n",
      "10000/10000 [==============================] - 8s 784us/sample - loss: 0.2650 - accuracy: 0.9089 - val_loss: 0.3987 - val_accuracy: 0.8621\n",
      "Epoch 27/40\n",
      "10000/10000 [==============================] - 9s 879us/sample - loss: 0.2570 - accuracy: 0.9137 - val_loss: 0.4500 - val_accuracy: 0.8430\n",
      "Epoch 28/40\n",
      "10000/10000 [==============================] - 8s 798us/sample - loss: 0.2564 - accuracy: 0.9093 - val_loss: 0.3899 - val_accuracy: 0.8639\n",
      "Epoch 29/40\n",
      "10000/10000 [==============================] - 8s 759us/sample - loss: 0.2562 - accuracy: 0.9104 - val_loss: 0.4238 - val_accuracy: 0.8535\n",
      "Epoch 30/40\n",
      "10000/10000 [==============================] - 9s 875us/sample - loss: 0.2485 - accuracy: 0.9141 - val_loss: 0.4086 - val_accuracy: 0.8588\n",
      "Epoch 31/40\n",
      "10000/10000 [==============================] - 8s 825us/sample - loss: 0.2490 - accuracy: 0.9144 - val_loss: 0.3905 - val_accuracy: 0.8641\n",
      "Epoch 32/40\n",
      "10000/10000 [==============================] - 8s 843us/sample - loss: 0.2436 - accuracy: 0.9168 - val_loss: 0.4062 - val_accuracy: 0.8603\n",
      "Epoch 33/40\n",
      "10000/10000 [==============================] - 8s 829us/sample - loss: 0.2391 - accuracy: 0.9162 - val_loss: 0.5687 - val_accuracy: 0.8339\n",
      "Epoch 34/40\n",
      "10000/10000 [==============================] - 8s 833us/sample - loss: 0.2365 - accuracy: 0.9206 - val_loss: 0.3985 - val_accuracy: 0.8637\n",
      "Epoch 35/40\n",
      "10000/10000 [==============================] - 8s 812us/sample - loss: 0.2367 - accuracy: 0.9152 - val_loss: 0.4303 - val_accuracy: 0.8487\n",
      "Epoch 36/40\n",
      "10000/10000 [==============================] - 9s 876us/sample - loss: 0.2336 - accuracy: 0.9191 - val_loss: 0.4339 - val_accuracy: 0.8560\n",
      "Epoch 37/40\n",
      "10000/10000 [==============================] - 10s 970us/sample - loss: 0.2277 - accuracy: 0.9216 - val_loss: 0.4431 - val_accuracy: 0.8503\n",
      "Epoch 38/40\n",
      "10000/10000 [==============================] - 9s 853us/sample - loss: 0.2264 - accuracy: 0.9210 - val_loss: 0.4082 - val_accuracy: 0.8600\n",
      "Epoch 39/40\n",
      "10000/10000 [==============================] - 8s 842us/sample - loss: 0.2242 - accuracy: 0.9208 - val_loss: 0.4246 - val_accuracy: 0.8550\n",
      "Epoch 40/40\n",
      "10000/10000 [==============================] - 8s 809us/sample - loss: 0.2185 - accuracy: 0.9244 - val_loss: 0.4515 - val_accuracy: 0.8495\n"
     ]
    }
   ],
   "source": [
    "history = model.fit(X_train,y_train,epochs = 40,\n",
    "                    validation_data = (X_valid,y_valid))"
   ]
  },
  {
   "cell_type": "code",
   "execution_count": 49,
   "metadata": {},
   "outputs": [],
   "source": [
    "import matplotlib.pyplot as plt\n",
    "%matplotlib inline\n",
    "import pandas as pd"
   ]
  },
  {
   "cell_type": "code",
   "execution_count": 50,
   "metadata": {},
   "outputs": [
    {
     "data": {
      "image/png": "[encoded data removed]",
      "text/plain": [
       "<Figure size 576x360 with 1 Axes>"
      ]
     },
     "metadata": {
      "needs_background": "light"
     },
     "output_type": "display_data"
    }
   ],
   "source": [
    "pd.DataFrame(history.history).plot(figsize = (8,5))\n",
    "plt.grid(True)\n",
    "plt.gca().set_ylim(0,1)\n",
    "plt.show()"
   ]
  },
  {
   "cell_type": "code",
   "execution_count": 51,
   "metadata": {},
   "outputs": [
    {
     "name": "stdout",
     "output_type": "stream",
     "text": [
      "10000/10000 [==============================] - 1s 125us/sample - loss: 93.3452 - accuracy: 0.8260\n"
     ]
    },
    {
     "data": {
      "text/plain": [
       "[93.34522420043945, 0.826]"
      ]
     },
     "execution_count": 51,
     "metadata": {},
     "output_type": "execute_result"
    }
   ],
   "source": [
    "model.evaluate(X_test,y_test)"
   ]
  },
  {
   "cell_type": "code",
   "execution_count": 53,
   "metadata": {},
   "outputs": [
    {
     "data": {
      "text/plain": [
       "array([[0., 0., 0., 0., 0., 0., 0., 0., 0., 1.],\n",
       "       [0., 0., 1., 0., 0., 0., 0., 0., 0., 0.],\n",
       "       [0., 1., 0., 0., 0., 0., 0., 0., 0., 0.]], dtype=float32)"
      ]
     },
     "execution_count": 53,
     "metadata": {},
     "output_type": "execute_result"
    }
   ],
   "source": [
    "X_new = X_test[:3]\n",
    "y_proba = model.predict(X_new)\n",
    "y_proba"
   ]
  },
  {
   "cell_type": "code",
   "execution_count": 54,
   "metadata": {},
   "outputs": [
    {
     "data": {
      "text/plain": [
       "array([[0., 0., 0., 0., 0., 0., 0., 0., 0., 1.],\n",
       "       [0., 0., 1., 0., 0., 0., 0., 0., 0., 0.],\n",
       "       [0., 1., 0., 0., 0., 0., 0., 0., 0., 0.]], dtype=float32)"
      ]
     },
     "execution_count": 54,
     "metadata": {},
     "output_type": "execute_result"
    }
   ],
   "source": [
    "y_proba.round(2)"
   ]
  },
  {
   "cell_type": "code",
   "execution_count": null,
   "metadata": {},
   "outputs": [],
   "source": []
  }
 ],
 "metadata": {
  "kernelspec": {
   "display_name": "Python 3",
   "language": "python",
   "name": "python3"
  },
  "language_info": {
   "codemirror_mode": {
    "name": "ipython",
    "version": 3
   },
   "file_extension": ".py",
   "mimetype": "text/x-python",
   "name": "python",
   "nbconvert_exporter": "python",
   "pygments_lexer": "ipython3",
   "version": "3.6.10"
  }
 },
 "nbformat": 4,
 "nbformat_minor": 4
}
